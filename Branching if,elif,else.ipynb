{
 "cells": [
  {
   "cell_type": "code",
   "execution_count": 1,
   "id": "f66262c0",
   "metadata": {},
   "outputs": [
    {
     "name": "stdout",
     "output_type": "stream",
     "text": [
      "less then 5\n"
     ]
    }
   ],
   "source": [
    "i = 4\n",
    "if i < 3:\n",
    "    \n",
    "    print('less then 3')\n",
    "    \n",
    "elif i < 5:\n",
    "    print('less then 5')\n",
    "else:\n",
    "    print('5 or more')\n",
    "    "
   ]
  },
  {
   "cell_type": "code",
   "execution_count": null,
   "id": "79b900c7",
   "metadata": {},
   "outputs": [],
   "source": []
  },
  {
   "cell_type": "code",
   "execution_count": 4,
   "id": "fdd0cb3a",
   "metadata": {},
   "outputs": [
    {
     "name": "stdout",
     "output_type": "stream",
     "text": [
      "i is greater then j\n"
     ]
    }
   ],
   "source": [
    "i = 29\n",
    "j = 19\n",
    "if i > j: print(\"i is greater then j\")"
   ]
  },
  {
   "cell_type": "code",
   "execution_count": 8,
   "id": "11bf6015",
   "metadata": {},
   "outputs": [
    {
     "name": "stdout",
     "output_type": "stream",
     "text": [
      "print its equal\n"
     ]
    }
   ],
   "source": [
    "a =330\n",
    "b=330\n",
    "print(\"A\") if a > b else print(\"print its equal\") if a == b else print(\"b\")"
   ]
  },
  {
   "cell_type": "code",
   "execution_count": 6,
   "id": "5cd63a63",
   "metadata": {},
   "outputs": [
    {
     "name": "stdout",
     "output_type": "stream",
     "text": [
      "b\n"
     ]
    }
   ],
   "source": [
    "a=330\n",
    "b=330\n",
    "print (\"A\") if a>b else print(\"b\")"
   ]
  },
  {
   "cell_type": "code",
   "execution_count": 9,
   "id": "bfa8355d",
   "metadata": {},
   "outputs": [],
   "source": [
    "a=1000\n",
    "b=400\n",
    "c=350\n",
    "if a>b and c>a:\n",
    "    print (\"both condition are true\")"
   ]
  },
  {
   "cell_type": "code",
   "execution_count": 10,
   "id": "56be19ba",
   "metadata": {},
   "outputs": [
    {
     "name": "stdout",
     "output_type": "stream",
     "text": [
      "at least one of the condution is true\n"
     ]
    }
   ],
   "source": [
    "a=200\n",
    "b=33\n",
    "c=500\n",
    "if a>b or a>c:\n",
    "    print (\"at least one of the condution is true\")"
   ]
  },
  {
   "cell_type": "code",
   "execution_count": 12,
   "id": "531e4ab9",
   "metadata": {},
   "outputs": [
    {
     "name": "stdout",
     "output_type": "stream",
     "text": [
      "above ten\n",
      "but not above 20.\n"
     ]
    }
   ],
   "source": [
    "x=65\n",
    "\n",
    "if x>60:\n",
    "    print(\"above ten\")\n",
    "    if x>80:\n",
    "        print (\"and also abhove 20!\")\n",
    "    else:\n",
    "        print(\"but not above 20.\")\n"
   ]
  },
  {
   "cell_type": "code",
   "execution_count": 13,
   "id": "bc3dbd2b",
   "metadata": {},
   "outputs": [
    {
     "name": "stdout",
     "output_type": "stream",
     "text": [
      "i is 20\n"
     ]
    }
   ],
   "source": [
    "i=20\n",
    "if (i==10):\n",
    "    print (\"i is 10\")\n",
    "elif (i==15):\n",
    "    print (\"i is 15\")\n",
    "elif (i==20):\n",
    "    print (\"i is 20\")\n",
    "else:\n",
    "    Print (\"i is not present\")"
   ]
  },
  {
   "cell_type": "code",
   "execution_count": 14,
   "id": "9964e3b4",
   "metadata": {},
   "outputs": [
    {
     "name": "stdout",
     "output_type": "stream",
     "text": [
      "None\n"
     ]
    }
   ],
   "source": [
    "a = True+True+True+2-False\n",
    "b = 5*(True)+False\n",
    "print (\"A\") if a>b else print(\"None\") if a==b else print (\"B\")"
   ]
  },
  {
   "cell_type": "code",
   "execution_count": null,
   "id": "8d9e53b3",
   "metadata": {},
   "outputs": [],
   "source": []
  }
 ],
 "metadata": {
  "kernelspec": {
   "display_name": "Python 3 (ipykernel)",
   "language": "python",
   "name": "python3"
  },
  "language_info": {
   "codemirror_mode": {
    "name": "ipython",
    "version": 3
   },
   "file_extension": ".py",
   "mimetype": "text/x-python",
   "name": "python",
   "nbconvert_exporter": "python",
   "pygments_lexer": "ipython3",
   "version": "3.9.12"
  }
 },
 "nbformat": 4,
 "nbformat_minor": 5
}
