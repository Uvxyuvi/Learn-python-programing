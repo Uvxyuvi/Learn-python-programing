{
 "cells": [
  {
   "cell_type": "code",
   "execution_count": 4,
   "id": "95864e46",
   "metadata": {},
   "outputs": [
    {
     "name": "stdout",
     "output_type": "stream",
     "text": [
      "<__main__.Person object at 0x000001F83F1A7B80>\n",
      "Alec Baldwin was born in 1997.\n"
     ]
    }
   ],
   "source": [
    "class Person:\n",
    "    pass\n",
    "\n",
    "john_doe = Person()\n",
    "john_doe.name = \"Alec\"\n",
    "john_doe.surname = \"Baldwin\"\n",
    "john_doe.year_of_birth = 1997\n",
    "\n",
    "print(john_doe)\n",
    "print(\"%s %s was born in %d.\" %\n",
    "     (john_doe.name, john_doe.surname, john_doe.year_of_birth))"
   ]
  },
  {
   "cell_type": "code",
   "execution_count": 5,
   "id": "43f0d1ba",
   "metadata": {},
   "outputs": [],
   "source": [
    "class Person:\n",
    "    def __init__(self, name, surname, year_of_birth):\n",
    "        self.name = name\n",
    "        self.surname = surname\n",
    "        self.year_of_birth = year_of_birth "
   ]
  },
  {
   "cell_type": "code",
   "execution_count": 10,
   "id": "5c75c062",
   "metadata": {},
   "outputs": [
    {
     "name": "stdout",
     "output_type": "stream",
     "text": [
      "Alec Baldwin was born in 1997 .\n",
      "25\n"
     ]
    }
   ],
   "source": [
    "class Person:\n",
    "    def __init__(self, name, surname, year_of_birth):\n",
    "        self.name = name\n",
    "        self.surname = surname\n",
    "        self.year_of_birth = year_of_birth\n",
    "        \n",
    "    def age(self,current_year):\n",
    "        return current_year - self.year_of_birth\n",
    "    \n",
    "    def __str__(self):\n",
    "        return \"%s %s was born in %d .\" % (self.name, self.surname, self.year_of_birth)\n",
    "    \n",
    "alec = Person(\"Alec\", \"Baldwin\", 1997)\n",
    "print(alec)\n",
    "print(alec.age(2022))"
   ]
  }
 ],
 "metadata": {
  "kernelspec": {
   "display_name": "Python 3 (ipykernel)",
   "language": "python",
   "name": "python3"
  },
  "language_info": {
   "codemirror_mode": {
    "name": "ipython",
    "version": 3
   },
   "file_extension": ".py",
   "mimetype": "text/x-python",
   "name": "python",
   "nbconvert_exporter": "python",
   "pygments_lexer": "ipython3",
   "version": "3.9.12"
  }
 },
 "nbformat": 4,
 "nbformat_minor": 5
}
