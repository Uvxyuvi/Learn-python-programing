{
 "cells": [
  {
   "cell_type": "markdown",
   "id": "8e564207",
   "metadata": {},
   "source": [
    "Errors and Exception handling\n",
    "\n",
    "Example"
   ]
  },
  {
   "cell_type": "code",
   "execution_count": 1,
   "id": "e25a21fa",
   "metadata": {},
   "outputs": [
    {
     "ename": "SyntaxError",
     "evalue": "EOL while scanning string literal (1679058590.py, line 1)",
     "output_type": "error",
     "traceback": [
      "\u001b[1;36m  Input \u001b[1;32mIn [1]\u001b[1;36m\u001b[0m\n\u001b[1;33m    print('Hello)\u001b[0m\n\u001b[1;37m                 ^\u001b[0m\n\u001b[1;31mSyntaxError\u001b[0m\u001b[1;31m:\u001b[0m EOL while scanning string literal\n"
     ]
    }
   ],
   "source": [
    "print('Hello)"
   ]
  },
  {
   "cell_type": "markdown",
   "id": "87f27c63",
   "metadata": {},
   "source": [
    "Using just except, we can check for any exception: To understand better let's check out a sample code that opens and write a file:"
   ]
  },
  {
   "cell_type": "code",
   "execution_count": 2,
   "id": "93c067b3",
   "metadata": {},
   "outputs": [
    {
     "name": "stdout",
     "output_type": "stream",
     "text": [
      "Error: Could not find file or read data\n"
     ]
    }
   ],
   "source": [
    "try:\n",
    "    f= open('test.txt','w')\n",
    "    f.read()\n",
    "except IOError:\n",
    "    \n",
    "    #this will only check for an IOError exception and then excecute this print statement \n",
    "    print(\"Error: Could not find file or read data\")\n",
    "else:\n",
    "    \n",
    "    print(\"Content written seccessfully\")\n",
    "    f.close()"
   ]
  },
  {
   "cell_type": "markdown",
   "id": "91b3bc14",
   "metadata": {},
   "source": [
    "Now, let's see what happens when we don't have write permission? (opening only with'r')"
   ]
  },
  {
   "cell_type": "code",
   "execution_count": 3,
   "id": "8b6fcb26",
   "metadata": {},
   "outputs": [
    {
     "name": "stdout",
     "output_type": "stream",
     "text": [
      "Content written seccessfully\n"
     ]
    }
   ],
   "source": [
    "try:\n",
    "    f= open('testfile','w')\n",
    "    f.write('text write this')\n",
    "    \n",
    "except IOerror:\n",
    "    #this will only check for an IOError exception and then excecute this print statement \n",
    "    print(\"Error: Could not find file or read data\")\n",
    "else:\n",
    "    \n",
    "    print(\"Content written seccessfully\")\n",
    "    f.close()"
   ]
  },
  {
   "cell_type": "code",
   "execution_count": 4,
   "id": "1d5bddeb",
   "metadata": {},
   "outputs": [
    {
     "name": "stdout",
     "output_type": "stream",
     "text": [
      "always execute finally code block\n"
     ]
    },
    {
     "ename": "NameError",
     "evalue": "name 'ope' is not defined",
     "output_type": "error",
     "traceback": [
      "\u001b[1;31m---------------------------------------------------------------------------\u001b[0m",
      "\u001b[1;31mNameError\u001b[0m                                 Traceback (most recent call last)",
      "Input \u001b[1;32mIn [4]\u001b[0m, in \u001b[0;36m<cell line: 1>\u001b[1;34m()\u001b[0m\n\u001b[0;32m      1\u001b[0m \u001b[38;5;28;01mtry\u001b[39;00m:\n\u001b[1;32m----> 2\u001b[0m     f \u001b[38;5;241m=\u001b[39m \u001b[43mope\u001b[49m(\u001b[38;5;124m\"\u001b[39m\u001b[38;5;124mtestfile\u001b[39m\u001b[38;5;124m\"\u001b[39m,\u001b[38;5;124m\"\u001b[39m\u001b[38;5;124mr\u001b[39m\u001b[38;5;124m\"\u001b[39m)\n\u001b[0;32m      3\u001b[0m     f\u001b[38;5;241m.\u001b[39mwrite(\u001b[38;5;124m\"\u001b[39m\u001b[38;5;124mtest write statement\u001b[39m\u001b[38;5;124m\"\u001b[39m)\n\u001b[0;32m      4\u001b[0m \u001b[38;5;28;01mfinally\u001b[39;00m:\n",
      "\u001b[1;31mNameError\u001b[0m: name 'ope' is not defined"
     ]
    }
   ],
   "source": [
    "try:\n",
    "    f = ope(\"testfile\",\"r\")\n",
    "    f.write(\"test write statement\")\n",
    "finally:\n",
    "    print(\"always execute finally code block\")"
   ]
  },
  {
   "cell_type": "code",
   "execution_count": 5,
   "id": "48f19cf5",
   "metadata": {},
   "outputs": [],
   "source": [
    "def askint():\n",
    "    try:\n",
    "        val = int(input(\"please enter an integer: \"))\n",
    "    except:\n",
    "        print(\"looks like you did not enter an integer!\")\n",
    "        \n",
    "    finally:\n",
    "        print(\"finally, I executed!\")\n",
    "    print(val)\n"
   ]
  },
  {
   "cell_type": "code",
   "execution_count": 6,
   "id": "19e6feeb",
   "metadata": {},
   "outputs": [
    {
     "name": "stdout",
     "output_type": "stream",
     "text": [
      "please enter an integer: 1\n",
      "finally, I executed!\n",
      "1\n"
     ]
    }
   ],
   "source": [
    "askint()"
   ]
  },
  {
   "cell_type": "code",
   "execution_count": 7,
   "id": "caa761d5",
   "metadata": {},
   "outputs": [
    {
     "name": "stdout",
     "output_type": "stream",
     "text": [
      "please enter an integer: uvx\n",
      "looks like you did not enter an integer!\n",
      "finally, I executed!\n"
     ]
    },
    {
     "ename": "UnboundLocalError",
     "evalue": "local variable 'val' referenced before assignment",
     "output_type": "error",
     "traceback": [
      "\u001b[1;31m---------------------------------------------------------------------------\u001b[0m",
      "\u001b[1;31mUnboundLocalError\u001b[0m                         Traceback (most recent call last)",
      "Input \u001b[1;32mIn [7]\u001b[0m, in \u001b[0;36m<cell line: 1>\u001b[1;34m()\u001b[0m\n\u001b[1;32m----> 1\u001b[0m \u001b[43maskint\u001b[49m\u001b[43m(\u001b[49m\u001b[43m)\u001b[49m\n",
      "Input \u001b[1;32mIn [5]\u001b[0m, in \u001b[0;36maskint\u001b[1;34m()\u001b[0m\n\u001b[0;32m      7\u001b[0m \u001b[38;5;28;01mfinally\u001b[39;00m:\n\u001b[0;32m      8\u001b[0m     \u001b[38;5;28mprint\u001b[39m(\u001b[38;5;124m\"\u001b[39m\u001b[38;5;124mfinally, I executed!\u001b[39m\u001b[38;5;124m\"\u001b[39m)\n\u001b[1;32m----> 9\u001b[0m \u001b[38;5;28mprint\u001b[39m(\u001b[43mval\u001b[49m)\n",
      "\u001b[1;31mUnboundLocalError\u001b[0m: local variable 'val' referenced before assignment"
     ]
    }
   ],
   "source": [
    "askint()"
   ]
  },
  {
   "cell_type": "code",
   "execution_count": 10,
   "id": "cb8ff4f6",
   "metadata": {},
   "outputs": [],
   "source": [
    "def askint():\n",
    "    try:\n",
    "        val = int(input(\"please enter an integer: \"))\n",
    "    except:\n",
    "        print(\"looks like you did not enter an integer!\")\n",
    "        val = int(input(\"Try again-please enter an integer: \"))\n",
    "    finally:\n",
    "        print(\"finally, I executed!\")\n",
    "    print(val)\n"
   ]
  },
  {
   "cell_type": "code",
   "execution_count": 11,
   "id": "a4341524",
   "metadata": {},
   "outputs": [
    {
     "name": "stdout",
     "output_type": "stream",
     "text": [
      "please enter an integer: ad\n",
      "looks like you did not enter an integer!\n",
      "Try again-please enter an integer: 15\n",
      "finally, I executed!\n",
      "15\n"
     ]
    }
   ],
   "source": [
    "askint()"
   ]
  },
  {
   "cell_type": "code",
   "execution_count": 3,
   "id": "ced8e4b8",
   "metadata": {},
   "outputs": [
    {
     "ename": "IndentationError",
     "evalue": "unexpected unindent (2898568029.py, line 5)",
     "output_type": "error",
     "traceback": [
      "\u001b[1;36m  Input \u001b[1;32mIn [3]\u001b[1;36m\u001b[0m\n\u001b[1;33m    except:\u001b[0m\n\u001b[1;37m    ^\u001b[0m\n\u001b[1;31mIndentationError\u001b[0m\u001b[1;31m:\u001b[0m unexpected unindent\n"
     ]
    }
   ],
   "source": [
    "def askint():\n",
    "    while True:\n",
    "        try:\n",
    "            val = int(input(\"please enter an integer: \"))\n",
    "    except:\n",
    "        print(\"looks like you did not enter an integer!\")\n",
    "        continue\n",
    "    else:\n",
    "        print('yep thats an integer!')\n",
    "        break\n",
    "    finally:\n",
    "        print(\"Finally, I executed\")\n",
    "    print(val)\n",
    "        "
   ]
  },
  {
   "cell_type": "code",
   "execution_count": 5,
   "id": "a3f4d47f",
   "metadata": {},
   "outputs": [
    {
     "ename": "NameError",
     "evalue": "name 'askint' is not defined",
     "output_type": "error",
     "traceback": [
      "\u001b[1;31m---------------------------------------------------------------------------\u001b[0m",
      "\u001b[1;31mNameError\u001b[0m                                 Traceback (most recent call last)",
      "Input \u001b[1;32mIn [5]\u001b[0m, in \u001b[0;36m<cell line: 1>\u001b[1;34m()\u001b[0m\n\u001b[1;32m----> 1\u001b[0m \u001b[43maskint\u001b[49m()\n",
      "\u001b[1;31mNameError\u001b[0m: name 'askint' is not defined"
     ]
    }
   ],
   "source": [
    "askint()"
   ]
  },
  {
   "cell_type": "code",
   "execution_count": null,
   "id": "52b075f8",
   "metadata": {},
   "outputs": [],
   "source": []
  },
  {
   "cell_type": "code",
   "execution_count": null,
   "id": "1435333c",
   "metadata": {},
   "outputs": [],
   "source": []
  },
  {
   "cell_type": "code",
   "execution_count": null,
   "id": "0a496b3a",
   "metadata": {},
   "outputs": [],
   "source": []
  },
  {
   "cell_type": "code",
   "execution_count": null,
   "id": "5befa2ec",
   "metadata": {},
   "outputs": [],
   "source": []
  }
 ],
 "metadata": {
  "kernelspec": {
   "display_name": "Python 3 (ipykernel)",
   "language": "python",
   "name": "python3"
  },
  "language_info": {
   "codemirror_mode": {
    "name": "ipython",
    "version": 3
   },
   "file_extension": ".py",
   "mimetype": "text/x-python",
   "name": "python",
   "nbconvert_exporter": "python",
   "pygments_lexer": "ipython3",
   "version": "3.9.12"
  }
 },
 "nbformat": 4,
 "nbformat_minor": 5
}
