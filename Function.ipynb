{
 "cells": [
  {
   "cell_type": "code",
   "execution_count": 1,
   "id": "2c0e0dcf",
   "metadata": {},
   "outputs": [
    {
     "ename": "SyntaxError",
     "evalue": "invalid syntax (913226716.py, line 1)",
     "output_type": "error",
     "traceback": [
      "\u001b[1;36m  Input \u001b[1;32mIn [1]\u001b[1;36m\u001b[0m\n\u001b[1;33m    daf name_of_function(arg1,arg2):\u001b[0m\n\u001b[1;37m        ^\u001b[0m\n\u001b[1;31mSyntaxError\u001b[0m\u001b[1;31m:\u001b[0m invalid syntax\n"
     ]
    }
   ],
   "source": [
    "daf name_of_function(arg1,arg2):\n",
    "    \n",
    "    this is where the function's Document string (doc-string) goes\n",
    "    "
   ]
  },
  {
   "cell_type": "code",
   "execution_count": 2,
   "id": "cc6037fb",
   "metadata": {},
   "outputs": [],
   "source": [
    "def say_hello():\n",
    "    print('print')"
   ]
  },
  {
   "cell_type": "code",
   "execution_count": 3,
   "id": "c2dded41",
   "metadata": {},
   "outputs": [
    {
     "name": "stdout",
     "output_type": "stream",
     "text": [
      "print\n"
     ]
    }
   ],
   "source": [
    "say_hello()"
   ]
  },
  {
   "cell_type": "code",
   "execution_count": 4,
   "id": "bbe3b15d",
   "metadata": {},
   "outputs": [],
   "source": [
    "def greeting (name):\n",
    "    print('hello', name)"
   ]
  },
  {
   "cell_type": "code",
   "execution_count": 5,
   "id": "5436cd37",
   "metadata": {},
   "outputs": [
    {
     "name": "stdout",
     "output_type": "stream",
     "text": [
      "hello Mr.Ramesh\n"
     ]
    }
   ],
   "source": [
    "greeting('Mr.Ramesh')"
   ]
  },
  {
   "cell_type": "code",
   "execution_count": 6,
   "id": "2889b6ee",
   "metadata": {},
   "outputs": [],
   "source": [
    "def add_num(num1,num2):\n",
    "    return num1 + num2"
   ]
  },
  {
   "cell_type": "code",
   "execution_count": 7,
   "id": "88500bcd",
   "metadata": {},
   "outputs": [
    {
     "data": {
      "text/plain": [
       "1105"
      ]
     },
     "execution_count": 7,
     "metadata": {},
     "output_type": "execute_result"
    }
   ],
   "source": [
    "add_num(200,905)"
   ]
  },
  {
   "cell_type": "code",
   "execution_count": 8,
   "id": "099bea6b",
   "metadata": {},
   "outputs": [],
   "source": [
    "# can also save as variable due to return\n",
    "result = add_num(811851241825,1512515485)"
   ]
  },
  {
   "cell_type": "code",
   "execution_count": 9,
   "id": "764b3162",
   "metadata": {},
   "outputs": [
    {
     "name": "stdout",
     "output_type": "stream",
     "text": [
      "813363757310\n"
     ]
    }
   ],
   "source": [
    "print(result)"
   ]
  },
  {
   "cell_type": "code",
   "execution_count": 11,
   "id": "3864fb77",
   "metadata": {},
   "outputs": [
    {
     "name": "stdout",
     "output_type": "stream",
     "text": [
      "one two\n"
     ]
    }
   ],
   "source": [
    "print(add_num('one ','two'))"
   ]
  },
  {
   "cell_type": "code",
   "execution_count": 12,
   "id": "90c4c106",
   "metadata": {},
   "outputs": [],
   "source": [
    "def is_prime(num):\n",
    "    \n",
    "    for n in range(2,num):\n",
    "        if num % n == 0:\n",
    "            print('not primne')\n",
    "            break\n",
    "    else: #if never mod zero, then print\n",
    "        print('prime')"
   ]
  },
  {
   "cell_type": "code",
   "execution_count": 14,
   "id": "0bbd8668",
   "metadata": {},
   "outputs": [
    {
     "name": "stdout",
     "output_type": "stream",
     "text": [
      "not primne\n"
     ]
    }
   ],
   "source": [
    "is_prime(8)"
   ]
  },
  {
   "cell_type": "code",
   "execution_count": 15,
   "id": "75ef16a0",
   "metadata": {},
   "outputs": [],
   "source": [
    "def my_fun(*args):\n",
    "    for i in args:\n",
    "        print ('my args', i)"
   ]
  },
  {
   "cell_type": "code",
   "execution_count": 16,
   "id": "c5cd8a42",
   "metadata": {},
   "outputs": [
    {
     "name": "stdout",
     "output_type": "stream",
     "text": [
      "my args test arguments\n",
      "my args 56\n",
      "my args India\n",
      "my args one more\n",
      "my args 26594651265\n"
     ]
    }
   ],
   "source": [
    "my_fun('test arguments', 56,'India','one more',26594651265)"
   ]
  },
  {
   "cell_type": "code",
   "execution_count": 17,
   "id": "512c789c",
   "metadata": {},
   "outputs": [],
   "source": [
    "def my_kwargs(**kwargs):\n",
    "    for key,value in kwargs.items():\n",
    "        \n",
    "        print(key, value)"
   ]
  },
  {
   "cell_type": "code",
   "execution_count": 18,
   "id": "e83ab141",
   "metadata": {},
   "outputs": [
    {
     "name": "stdout",
     "output_type": "stream",
     "text": [
      "name ['akshay', 'Dr ad']\n",
      "occupation ['actor', 'Scientist']\n"
     ]
    }
   ],
   "source": [
    "my_kwargs(name=['akshay','Dr ad'],occupation =['actor','Scientist'])"
   ]
  },
  {
   "cell_type": "code",
   "execution_count": null,
   "id": "5dd2c1a6",
   "metadata": {},
   "outputs": [],
   "source": []
  }
 ],
 "metadata": {
  "kernelspec": {
   "display_name": "Python 3 (ipykernel)",
   "language": "python",
   "name": "python3"
  },
  "language_info": {
   "codemirror_mode": {
    "name": "ipython",
    "version": 3
   },
   "file_extension": ".py",
   "mimetype": "text/x-python",
   "name": "python",
   "nbconvert_exporter": "python",
   "pygments_lexer": "ipython3",
   "version": "3.9.12"
  }
 },
 "nbformat": 4,
 "nbformat_minor": 5
}
