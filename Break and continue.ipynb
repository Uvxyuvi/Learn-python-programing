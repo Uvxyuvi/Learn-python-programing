{
 "cells": [
  {
   "cell_type": "code",
   "execution_count": 2,
   "id": "05faa761",
   "metadata": {},
   "outputs": [
    {
     "name": "stdout",
     "output_type": "stream",
     "text": [
      "s\n",
      "t\n",
      "r\n",
      "the end\n"
     ]
    }
   ],
   "source": [
    "#Use of break statement inside loop\n",
    "\n",
    "for val in \"string\":\n",
    "    if val == \"i\":\n",
    "        break\n",
    "    print(val)\n",
    "        \n",
    "print(\"the end\")"
   ]
  },
  {
   "cell_type": "code",
   "execution_count": 3,
   "id": "8467b300",
   "metadata": {},
   "outputs": [
    {
     "name": "stdout",
     "output_type": "stream",
     "text": [
      "10\n",
      "20\n",
      "25\n"
     ]
    }
   ],
   "source": [
    "for val in [10,20,25,45,60]:\n",
    "    if val >  25:\n",
    "        break\n",
    "    print(val)"
   ]
  },
  {
   "cell_type": "code",
   "execution_count": 5,
   "id": "1468995a",
   "metadata": {},
   "outputs": [
    {
     "name": "stdout",
     "output_type": "stream",
     "text": [
      "s\n",
      "t\n",
      "r\n",
      "n\n",
      "g\n"
     ]
    }
   ],
   "source": [
    "for val in \"string\":\n",
    "    if val == \"i\":\n",
    "        continue\n",
    "    print(val)\n",
    "        "
   ]
  },
  {
   "cell_type": "code",
   "execution_count": 6,
   "id": "d90521b1",
   "metadata": {},
   "outputs": [
    {
     "name": "stdout",
     "output_type": "stream",
     "text": [
      "s\n",
      "s\n",
      "t\n",
      "t\n",
      "r\n",
      "r\n",
      "n\n",
      "n\n",
      "g\n",
      "g\n",
      "e\n",
      "e\n",
      "the end\n"
     ]
    }
   ],
   "source": [
    "for val in \"stringexample\":\n",
    "    if val == \"i\":\n",
    "        continue\n",
    "    else:\n",
    "        if val == 'x':\n",
    "            break\n",
    "        print(val)\n",
    "    print(val)\n",
    "    \n",
    "print(\"the end\")"
   ]
  }
 ],
 "metadata": {
  "kernelspec": {
   "display_name": "Python 3 (ipykernel)",
   "language": "python",
   "name": "python3"
  },
  "language_info": {
   "codemirror_mode": {
    "name": "ipython",
    "version": 3
   },
   "file_extension": ".py",
   "mimetype": "text/x-python",
   "name": "python",
   "nbconvert_exporter": "python",
   "pygments_lexer": "ipython3",
   "version": "3.9.12"
  }
 },
 "nbformat": 4,
 "nbformat_minor": 5
}
