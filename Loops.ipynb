{
 "cells": [
  {
   "cell_type": "code",
   "execution_count": 9,
   "id": "6bfb2443",
   "metadata": {},
   "outputs": [
    {
     "name": "stdout",
     "output_type": "stream",
     "text": [
      "6\n",
      "11\n",
      "14\n",
      "22\n",
      "26\n",
      "28\n",
      "33\n",
      "37\n",
      "46\n",
      "The sum is 46\n"
     ]
    }
   ],
   "source": [
    "#program to find the sum of all numbers stored in a list\n",
    "\n",
    "#list of numbers\n",
    "numbers = [6, 5, 3, 8, 4, 2, 5, 4, 9]\n",
    "\n",
    "# variable to store the sum\n",
    "\n",
    "sum = 0\n",
    "\n",
    "# iterate over the list\n",
    "for val in numbers:\n",
    "    sum = sum+val\n",
    "    print (sum)\n",
    "    \n",
    "#output: the sum is 46\n",
    "print(\"The sum is\", sum)"
   ]
  },
  {
   "cell_type": "code",
   "execution_count": 10,
   "id": "c148001d",
   "metadata": {},
   "outputs": [
    {
     "name": "stdout",
     "output_type": "stream",
     "text": [
      "0\n",
      "1\n",
      "5\n",
      "No items left.\n"
     ]
    }
   ],
   "source": [
    "digits = [0, 1, 5]\n",
    "\n",
    "for i in digits:\n",
    "    print(i)\n",
    "else:\n",
    "    \n",
    "    print(\"No items left.\")"
   ]
  },
  {
   "cell_type": "code",
   "execution_count": 11,
   "id": "54189b6f",
   "metadata": {},
   "outputs": [
    {
     "name": "stdout",
     "output_type": "stream",
     "text": [
      "sum 1\n",
      "i 2\n",
      "sum 3\n",
      "i 3\n",
      "sum 6\n",
      "i 4\n",
      "sum 10\n",
      "i 5\n",
      "sum 15\n",
      "i 6\n",
      "sum 21\n",
      "i 7\n",
      "sum 28\n",
      "i 8\n",
      "sum 36\n",
      "i 9\n",
      "sum 45\n",
      "i 10\n",
      "sum 55\n",
      "i 11\n"
     ]
    }
   ],
   "source": [
    "# While loop\n",
    "\n",
    "n = 10\n",
    "\n",
    "# intialize sum and counter\n",
    "\n",
    "sum = 0\n",
    "\n",
    "i = 1\n",
    "\n",
    "while i <= n:\n",
    "    sum = sum + i\n",
    "    i = i+1\n",
    "    print ('sum', sum)\n",
    "    print ('i', i)\n",
    "    \n",
    "#print the sum\n",
    "#print(\"the sum is\", sum)"
   ]
  },
  {
   "cell_type": "code",
   "execution_count": null,
   "id": "fab988b6",
   "metadata": {},
   "outputs": [],
   "source": []
  }
 ],
 "metadata": {
  "kernelspec": {
   "display_name": "Python 3 (ipykernel)",
   "language": "python",
   "name": "python3"
  },
  "language_info": {
   "codemirror_mode": {
    "name": "ipython",
    "version": 3
   },
   "file_extension": ".py",
   "mimetype": "text/x-python",
   "name": "python",
   "nbconvert_exporter": "python",
   "pygments_lexer": "ipython3",
   "version": "3.9.12"
  }
 },
 "nbformat": 4,
 "nbformat_minor": 5
}
